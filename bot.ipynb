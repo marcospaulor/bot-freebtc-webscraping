{
 "cells": [
  {
   "cell_type": "code",
   "execution_count": null,
   "source": [
    "from twocaptcha import TwoCaptcha\r\n",
    "from selenium import webdriver\r\n",
    "import time\r\n",
    "\r\n",
    "email = '//*[@id=\"signup_form_email\"]'\r\n",
    "password = '//*[@id=\"signup_form_password\"]'\r\n",
    "captcha = '//*[@id=\"checkbox\"]'\r\n",
    "singup = '//*[@id=\"signup_button\"]'\r\n",
    "textarea = '//*[@id=\"g-recaptcha-response-08xio69k8wno\"]'\r\n",
    "\r\n",
    "\r\n",
    "# Open the browser\r\n",
    "navegador = webdriver.Firefox()\r\n",
    "# Open the link\r\n",
    "navegador.get('https://freebitco.in/?op=signup_page')\r\n",
    "# Wait for the page to load\r\n",
    "time.sleep(5)\r\n",
    "# Modal popup close\r\n",
    "navegador.find_element_by_xpath('/html/body/div[16]/div[1]/div[2]/div/div[1]').click()\r\n",
    "\r\n",
    "# Fill the email\r\n",
    "navegador.find_element_by_xpath(email).send_keys('PUT YOUR E-MAIL HERE')\r\n",
    "# Fill the password\r\n",
    "navegador.find_element_by_xpath(password).send_keys('PUT YOUR PASSWORD HERE')\r\n",
    "time.sleep(2)\r\n",
    "# Click on the captcha\r\n",
    "iframe = navegador.find_element_by_xpath('/html/body/div[4]/div/div/div[3]/div[3]/form/fieldset/div/div[5]/div/div/iframe')\r\n",
    "navegador.switch_to.frame(iframe)\r\n",
    "navegador.find_element_by_xpath('//*[@id=\"checkbox\"]').click()\r\n",
    "navegador.switch_to.default_content()"
   ],
   "outputs": [],
   "metadata": {}
  }
 ],
 "metadata": {
  "orig_nbformat": 4,
  "language_info": {
   "name": "python"
  }
 },
 "nbformat": 4,
 "nbformat_minor": 2
}